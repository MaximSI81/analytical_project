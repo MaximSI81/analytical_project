{
 "cells": [
  {
   "cell_type": "code",
   "execution_count": 1,
   "id": "0fa6759d",
   "metadata": {},
   "outputs": [],
   "source": [
    "import duckdb\n",
    "import pandas"
   ]
  },
  {
   "cell_type": "code",
   "execution_count": 2,
   "id": "edf2f947",
   "metadata": {},
   "outputs": [],
   "source": [
    "import faker\n",
    "import uuid\n",
    "import random, time, datetime\n",
    "import time"
   ]
  },
  {
   "cell_type": "code",
   "execution_count": 4,
   "id": "e7c0ad39",
   "metadata": {},
   "outputs": [],
   "source": [
    "fake = faker.Faker()"
   ]
  },
  {
   "cell_type": "code",
   "execution_count": 3,
   "id": "1e5ac899",
   "metadata": {},
   "outputs": [],
   "source": [
    "\n",
    "device = [\"desktop\", \"mobil\", \"Tablet\"]\n",
    "weights_device = [0.4, 0.4, 0.2]\n",
    "link = {\"ИПОТЕКА\": 1, \"ОСАГО\": 2, \"ДОМ\": 3, \"ДМС\": 4, \"КАСКО\": 50}\n",
    "weights_link = [0.1, 0.4, 0.1, 0.15, 0.25]\n",
    "weights_action = [0.6, 0.3, 0.1]"
   ]
  },
  {
   "cell_type": "code",
   "execution_count": 5,
   "id": "24b24684",
   "metadata": {},
   "outputs": [],
   "source": [
    "data_list = []\n",
    "for i in range(10):\n",
    "    session_start = datetime.datetime.now()\n",
    "    session_end = datetime.datetime.now() + datetime.timedelta(milliseconds=random.randint(1000, 1000000))\n",
    "    name_link = random.choices(list(link.keys()), weights=weights_link)[0] if (session_end - session_start).seconds > 15 else None\n",
    "    action_type = random.choices(['calculation', 'view', 'add to cart'], weights=weights_action)[0] if name_link is not None else 'view'\n",
    "    data = {\"user_id\": int(random.randint(100, 500000) * (time.time() * 1000 % 10)),\n",
    "            \"session_id\": str(uuid.uuid4()).split('-')[0],\n",
    "            \"traffic_source\": random.choice(['organic', 'paid', 'social', 'email', 'referral', 'direct']),\n",
    "            \"session_start\": session_start,\n",
    "            \"session_end\": session_end,\n",
    "            \"device\": random.choices(device, weights=weights_device)[0],\n",
    "            \"name_link\": name_link,\n",
    "            \"action_type\": action_type,\n",
    "            \"purchase_amount\": round(random.uniform(1000 * (link[name_link] / 2), 10000 * link[name_link]), 2) if (action_type == \"calculation\" and name_link is not None) else None,\n",
    "            }\n",
    "    data_list.append(data)"
   ]
  },
  {
   "cell_type": "code",
   "execution_count": 6,
   "id": "1a6ab81f",
   "metadata": {},
   "outputs": [
    {
     "name": "stdout",
     "output_type": "stream",
     "text": [
      "┌─────────┬────────────┬────────────────┬────────────────────────────┬────────────────────────────┬─────────┬───────────┬─────────────┬─────────────────┐\n",
      "│ user_id │ session_id │ traffic_source │       session_start        │        session_end         │ device  │ name_link │ action_type │ purchase_amount │\n",
      "│  int64  │  varchar   │    varchar     │        timestamp_ns        │        timestamp_ns        │ varchar │  varchar  │   varchar   │     double      │\n",
      "├─────────┼────────────┼────────────────┼────────────────────────────┼────────────────────────────┼─────────┼───────────┼─────────────┼─────────────────┤\n",
      "│ 1785805 │ 01f14ae7   │ referral       │ 2025-07-16 19:48:04.938891 │ 2025-07-16 19:51:22.556178 │ desktop │ ДМС       │ calculation │        35148.81 │\n",
      "│  674342 │ 4a5ae122   │ referral       │ 2025-07-16 19:48:04.939303 │ 2025-07-16 19:56:00.332305 │ desktop │ ОСАГО     │ calculation │         2396.85 │\n",
      "│ 3806535 │ e4bd6bb4   │ direct         │ 2025-07-16 19:48:04.939356 │ 2025-07-16 19:50:49.683357 │ desktop │ ДОМ       │ view        │            NULL │\n",
      "│ 1434973 │ e6ecd87e   │ paid           │ 2025-07-16 19:48:04.93939  │ 2025-07-16 19:54:01.388391 │ desktop │ ИПОТЕКА   │ add to cart │            NULL │\n",
      "│ 2306255 │ 83f028c9   │ email          │ 2025-07-16 19:48:04.939422 │ 2025-07-16 19:54:54.468423 │ Tablet  │ ОСАГО     │ calculation │         3851.44 │\n",
      "│ 1892473 │ d47bddc8   │ direct         │ 2025-07-16 19:48:04.939457 │ 2025-07-16 19:56:58.502458 │ mobil   │ ДМС       │ calculation │        17813.17 │\n",
      "│ 4499675 │ 615fda44   │ paid           │ 2025-07-16 19:48:04.939492 │ 2025-07-16 19:51:54.482493 │ desktop │ ДОМ       │ calculation │        13730.75 │\n",
      "│ 3577573 │ 8641cd2a   │ referral       │ 2025-07-16 19:48:04.939523 │ 2025-07-16 20:03:19.369524 │ mobil   │ ОСАГО     │ calculation │         3288.35 │\n",
      "│ 3830214 │ 96ef6691   │ paid           │ 2025-07-16 19:48:04.939554 │ 2025-07-16 20:04:01.993555 │ mobil   │ ИПОТЕКА   │ add to cart │            NULL │\n",
      "│ 4664303 │ 9ff308e2   │ organic        │ 2025-07-16 19:48:04.939582 │ 2025-07-16 20:04:43.705583 │ Tablet  │ ОСАГО     │ view        │            NULL │\n",
      "├─────────┴────────────┴────────────────┴────────────────────────────┴────────────────────────────┴─────────┴───────────┴─────────────┴─────────────────┤\n",
      "│ 10 rows                                                                                                                                     9 columns │\n",
      "└───────────────────────────────────────────────────────────────────────────────────────────────────────────────────────────────────────────────────────┘\n",
      "\n"
     ]
    }
   ],
   "source": [
    "df = pandas.DataFrame(data_list)\n",
    "duckdb.sql(\"from df\").show()    "
   ]
  },
  {
   "cell_type": "code",
   "execution_count": 15,
   "id": "e2fcccb1",
   "metadata": {},
   "outputs": [],
   "source": [
    "conn_str = (\n",
    "    \"host=0.0.0.0 \"\n",
    "    \"port=5433 \"\n",
    "    \"dbname=analytical_db \"\n",
    "    \"user=postgres \"\n",
    "    \"password=postgres\"\n",
    ")"
   ]
  },
  {
   "cell_type": "code",
   "execution_count": 18,
   "id": "258dcc3f",
   "metadata": {},
   "outputs": [],
   "source": [
    "duckdb.sql(f\"\"\" ATTACH '{conn_str}' AS postgres_db (TYPE postgres);\n",
    "                 \"\"\")"
   ]
  },
  {
   "cell_type": "code",
   "execution_count": 19,
   "id": "57652348",
   "metadata": {},
   "outputs": [],
   "source": [
    "duckdb.sql(f\"\"\" insert into postgres_db.stg_analytical.action_users\n",
    "                select * from df; \"\"\")"
   ]
  }
 ],
 "metadata": {
  "kernelspec": {
   "display_name": "myenv",
   "language": "python",
   "name": "python3"
  },
  "language_info": {
   "codemirror_mode": {
    "name": "ipython",
    "version": 3
   },
   "file_extension": ".py",
   "mimetype": "text/x-python",
   "name": "python",
   "nbconvert_exporter": "python",
   "pygments_lexer": "ipython3",
   "version": "3.12.3"
  }
 },
 "nbformat": 4,
 "nbformat_minor": 5
}
