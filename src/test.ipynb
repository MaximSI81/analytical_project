{
 "cells": [
  {
   "cell_type": "code",
   "execution_count": 1,
   "id": "0fa6759d",
   "metadata": {},
   "outputs": [],
   "source": [
    "import duckdb\n",
    "import pandas"
   ]
  },
  {
   "cell_type": "code",
   "execution_count": null,
   "id": "edf2f947",
   "metadata": {},
   "outputs": [
    {
     "ename": "",
     "evalue": "",
     "output_type": "error",
     "traceback": [
      "\u001b[1;31mДля выполнения ячеек с \"myenv (Python 3.8.10)\" требуется пакет ipykernel.\n",
      "\u001b[1;31mУстановите \"ipykernel\" в среде Python. \n",
      "\u001b[1;31mКоманда: \"/home/admin1/analytical_project/myenv/bin/python -m pip install ipykernel -U --force-reinstall\""
     ]
    }
   ],
   "source": [
    "import faker\n",
    "import uuid\n",
    "import random, time, datetime\n",
    "import time"
   ]
  },
  {
   "cell_type": "code",
   "execution_count": 3,
   "id": "e7c0ad39",
   "metadata": {},
   "outputs": [],
   "source": [
    "fake = faker.Faker()"
   ]
  },
  {
   "cell_type": "code",
   "execution_count": null,
   "id": "1e5ac899",
   "metadata": {},
   "outputs": [],
   "source": [
    "\n",
    "device = [\"desktop\", \"mobil\", \"Tablet\"]\n",
    "weights_device = [0.4, 0.4, 0.2]\n",
    "link = {\"ИПОТЕКА\": 1, \"ОСАГО\": 2, \"ДОМ\": 3, \"ДМС\": 4, \"КАСКО\": 50}\n",
    "weights_link = [0.1, 0.4, 0.1, 0.15, 0.25]\n",
    "weights_action = [0.6, 0.3, 0.1]"
   ]
  },
  {
   "cell_type": "code",
   "execution_count": null,
   "id": "24b24684",
   "metadata": {},
   "outputs": [],
   "source": [
    "data_list = []\n",
    "for i in range(10):\n",
    "    session_start = datetime.datetime.now()\n",
    "    session_end = datetime.datetime.now() + datetime.timedelta(milliseconds=random.randint(1000, 1000000))\n",
    "    name_link = random.choices(list(link.keys()), weights=weights_link)[0] if (session_end - session_start).seconds > 15 else None\n",
    "    action_type = random.choices(['calculation', 'view', 'add to cart'], weights=weights_action)[0] if name_link is not None else 'view'\n",
    "    data = {\"user_id\": int(random.randint(100, 500000) * (time.time() * 1000 % 10)),\n",
    "            \"session_id\": str(uuid.uuid4()).split('-')[0],\n",
    "            \"traffic_source\": random.choice(['organic', 'paid', 'social', 'email', 'referral', 'direct']),\n",
    "            \"session_start\": session_start,\n",
    "            \"session_end\": session_end,\n",
    "            \"device\": random.choices(device, weights=weights_device)[0],\n",
    "            \"name_link\": name_link,\n",
    "            \"action_type\": action_type,\n",
    "            \"purchase_amount\": round(random.uniform(1000 * (link[name_link] / 2), 10000 * link[name_link]), 2) if (action_type == \"calculation\" and name_link is not None) else None,\n",
    "            }\n",
    "    data_list.append(data)"
   ]
  },
  {
   "cell_type": "code",
   "execution_count": 7,
   "id": "1a6ab81f",
   "metadata": {},
   "outputs": [
    {
     "name": "stdout",
     "output_type": "stream",
     "text": [
      "┌─────────┬────────────┬────────────────┬────────────────────────────┬────────────────────────────┬─────────┬───────────┬─────────────┬─────────────────┐\n",
      "│ user_id │ session_id │ traffic_source │       session_start        │        session_end         │ device  │ name_link │ action_type │ purchase_amount │\n",
      "│  int64  │  varchar   │    varchar     │        timestamp_ns        │        timestamp_ns        │ varchar │  varchar  │   varchar   │     double      │\n",
      "├─────────┼────────────┼────────────────┼────────────────────────────┼────────────────────────────┼─────────┼───────────┼─────────────┼─────────────────┤\n",
      "│ 1054547 │ ed65d75f   │ referral       │ 2025-07-11 20:07:52.436861 │ 2025-07-11 20:08:27.436864 │ mobil   │ КАСКО     │ calculation │       153705.88 │\n",
      "│ 3209074 │ 6e059f1b   │ email          │ 2025-07-11 20:07:52.436966 │ 2025-07-11 20:10:45.344966 │ desctop │ ИПОТЕКА   │ view        │            NULL │\n",
      "│ 2830372 │ 844bc05e   │ social         │ 2025-07-11 20:07:52.436994 │ 2025-07-11 20:10:58.573995 │ mobil   │ ДМС       │ calculation │            NULL │\n",
      "│  187609 │ deac545f   │ organic        │ 2025-07-11 20:07:52.437022 │ 2025-07-11 20:22:47.175023 │ Tablet  │ ОСАГО     │ calculation │         6792.06 │\n",
      "│ 2363638 │ 3e3e0b02   │ email          │ 2025-07-11 20:07:52.437049 │ 2025-07-11 20:21:22.217049 │ desctop │ ДМС       │ calculation │            NULL │\n",
      "│ 1094879 │ df4401c2   │ social         │ 2025-07-11 20:07:52.437076 │ 2025-07-11 20:12:25.565076 │ mobil   │ ОСАГО     │ calculation │         17164.0 │\n",
      "│ 2260247 │ d7bf2b8d   │ organic        │ 2025-07-11 20:07:52.437099 │ 2025-07-11 20:15:19.6681   │ desctop │ ОСАГО     │ view        │            NULL │\n",
      "│ 1843829 │ 18c4db0b   │ paid           │ 2025-07-11 20:07:52.437121 │ 2025-07-11 20:23:48.150122 │ desctop │ ОСАГО     │ view        │            NULL │\n",
      "│ 2121550 │ 53adcc9f   │ organic        │ 2025-07-11 20:07:52.437148 │ 2025-07-11 20:12:02.492149 │ desctop │ КАСКО     │ calculation │       142902.23 │\n",
      "│  422226 │ 5c02c1fb   │ organic        │ 2025-07-11 20:07:52.437187 │ 2025-07-11 20:10:14.745188 │ desctop │ ДОМ       │ calculation │            NULL │\n",
      "├─────────┴────────────┴────────────────┴────────────────────────────┴────────────────────────────┴─────────┴───────────┴─────────────┴─────────────────┤\n",
      "│ 10 rows                                                                                                                                     9 columns │\n",
      "└───────────────────────────────────────────────────────────────────────────────────────────────────────────────────────────────────────────────────────┘\n",
      "\n"
     ]
    }
   ],
   "source": [
    "df = pandas.DataFrame(data_list)\n",
    "duckdb.sql(\"from df\").show()    "
   ]
  },
  {
   "cell_type": "code",
   "execution_count": 8,
   "id": "e2fcccb1",
   "metadata": {},
   "outputs": [],
   "source": [
    "conn_str = (\n",
    "    \"host=0.0.0.0 \"\n",
    "    \"port=5433 \"\n",
    "    \"dbname=analytical_db \"\n",
    "    \"user=postgres \"\n",
    "    \"password=postgres\"\n",
    ")"
   ]
  },
  {
   "cell_type": "code",
   "execution_count": 9,
   "id": "258dcc3f",
   "metadata": {},
   "outputs": [],
   "source": [
    "duckdb.sql(f\"\"\" ATTACH '{conn_str}' AS pg_db (TYPE postgres);\n",
    "                 \"\"\")"
   ]
  },
  {
   "cell_type": "code",
   "execution_count": 10,
   "id": "57652348",
   "metadata": {},
   "outputs": [],
   "source": [
    "duckdb.sql(f\"\"\" insert into pg_db.stg_analytical.action_users\n",
    "                select * from df; \"\"\")"
   ]
  },
  {
   "cell_type": "code",
   "execution_count": 1,
   "id": "ae1b2dbc",
   "metadata": {},
   "outputs": [],
   "source": [
    "from pyspark.sql import SparkSession\n",
    "import os"
   ]
  },
  {
   "cell_type": "code",
   "execution_count": 7,
   "id": "77c26f90",
   "metadata": {},
   "outputs": [],
   "source": [
    "spark = SparkSession.builder \\\n",
    "    .appName(\"MySparkApp\") \\\n",
    "    .config(\"spark.jars.packages\", \"org.apache.spark:spark-sql-kafka-0-10_2.12:3.5.0\") \\\n",
    "    .config(\"spark.ui.port\", \"4045\") \\\n",
    "    .config(\"spark.driver.host\", \"10.130.0.11\") \\\n",
    "    .config(\"spark.hadoop.fs.defaultFS\", \"file:///\") \\\n",
    "    .getOrCreate()"
   ]
  },
  {
   "cell_type": "code",
   "execution_count": 8,
   "id": "e5fa6715",
   "metadata": {},
   "outputs": [],
   "source": [
    "# Чтение из Kafka\n",
    "df = spark.readStream \\\n",
    "    .format(\"kafka\") \\\n",
    "    .option(\"kafka.bootstrap.servers\", \"localhost:9092\") \\\n",
    "    .option(\"subscribe\", \"cdc.stg_analytical.action_users\") \\\n",
    "    .option(\"startingOffsets\", \"latest\") \\\n",
    "    .load()\n",
    "    "
   ]
  },
  {
   "cell_type": "code",
   "execution_count": null,
   "id": "fcd1ca8c",
   "metadata": {},
   "outputs": [],
   "source": [
    "query = df.writeStream \\\n",
    "    .format(\"console\") \\\n",
    "    .start()\n",
    "\n",
    "query.awaitTermination()"
   ]
  },
  {
   "cell_type": "code",
   "execution_count": 10,
   "id": "93dc5781",
   "metadata": {},
   "outputs": [],
   "source": [
    "spark.stop()"
   ]
  }
 ],
 "metadata": {
  "kernelspec": {
   "display_name": "myenv",
   "language": "python",
   "name": "python3"
  },
  "language_info": {
   "codemirror_mode": {
    "name": "ipython",
    "version": 3
   },
   "file_extension": ".py",
   "mimetype": "text/x-python",
   "name": "python",
   "nbconvert_exporter": "python",
   "pygments_lexer": "ipython3",
   "version": "3.12.3"
  }
 },
 "nbformat": 4,
 "nbformat_minor": 5
}
