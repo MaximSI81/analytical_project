{
 "cells": [
  {
   "cell_type": "code",
   "execution_count": 1,
   "id": "0fa6759d",
   "metadata": {},
   "outputs": [],
   "source": [
    "import duckdb\n",
    "import pandas"
   ]
  },
  {
   "cell_type": "code",
   "execution_count": 2,
   "id": "edf2f947",
   "metadata": {},
   "outputs": [],
   "source": [
    "import faker\n",
    "import uuid\n",
    "import random, time, datetime\n",
    "import time"
   ]
  },
  {
   "cell_type": "code",
   "execution_count": 3,
   "id": "e7c0ad39",
   "metadata": {},
   "outputs": [],
   "source": [
    "fake = faker.Faker()"
   ]
  },
  {
   "cell_type": "code",
   "execution_count": 4,
   "id": "1e5ac899",
   "metadata": {},
   "outputs": [],
   "source": [
    "\n",
    "device = [\"desktop\", \"mobil\", \"Tablet\"]\n",
    "weights_device = [0.4, 0.4, 0.2]\n",
    "link = {\"ИПОТЕКА\": 1, \"ОСАГО\": 2, \"ДОМ\": 3, \"ДМС\": 4, \"КАСКО\": 50}\n",
    "weights_link = [0.1, 0.4, 0.1, 0.15, 0.25]\n",
    "weights_action = [0.6, 0.3, 0.1]"
   ]
  },
  {
   "cell_type": "code",
   "execution_count": 5,
   "id": "24b24684",
   "metadata": {},
   "outputs": [],
   "source": [
    "data_list = []\n",
    "for i in range(10):\n",
    "    session_start = datetime.datetime.now()\n",
    "    session_end = datetime.datetime.now() + datetime.timedelta(milliseconds=random.randint(1000, 1000000))\n",
    "    name_link = random.choices(list(link.keys()), weights=weights_link)[0] if (session_end - session_start).seconds > 15 else None\n",
    "    action_type = random.choices(['calculation', 'view', 'add to cart'], weights=weights_action)[0] if name_link is not None else 'view'\n",
    "    data = {\"user_id\": int(random.randint(100, 500000) * (time.time() * 1000 % 10)),\n",
    "            \"session_id\": str(uuid.uuid4()).split('-')[0],\n",
    "            \"traffic_source\": random.choice(['organic', 'paid', 'social', 'email', 'referral', 'direct']),\n",
    "            \"session_start\": session_start,\n",
    "            \"session_end\": session_end,\n",
    "            \"device\": random.choices(device, weights=weights_device)[0],\n",
    "            \"name_link\": name_link,\n",
    "            \"action_type\": action_type,\n",
    "            \"purchase_amount\": round(random.uniform(1000 * (link[name_link] / 2), 10000 * link[name_link]), 2) if (action_type == \"calculation\" and name_link is not None) else None,\n",
    "            }\n",
    "    data_list.append(data)"
   ]
  },
  {
   "cell_type": "code",
   "execution_count": 6,
   "id": "1a6ab81f",
   "metadata": {},
   "outputs": [
    {
     "name": "stdout",
     "output_type": "stream",
     "text": [
      "┌─────────┬────────────┬────────────────┬────────────────────────────┬────────────────────────────┬─────────┬───────────┬─────────────┬─────────────────┐\n",
      "│ user_id │ session_id │ traffic_source │       session_start        │        session_end         │ device  │ name_link │ action_type │ purchase_amount │\n",
      "│  int64  │  varchar   │    varchar     │        timestamp_ns        │        timestamp_ns        │ varchar │  varchar  │   varchar   │     double      │\n",
      "├─────────┼────────────┼────────────────┼────────────────────────────┼────────────────────────────┼─────────┼───────────┼─────────────┼─────────────────┤\n",
      "│ 1219285 │ cc441265   │ organic        │ 2025-07-13 19:16:14.424227 │ 2025-07-13 19:28:25.678229 │ desktop │ ОСАГО     │ calculation │        14798.88 │\n",
      "│   10107 │ ee97868a   │ paid           │ 2025-07-13 19:16:14.424318 │ 2025-07-13 19:31:21.238319 │ mobil   │ ОСАГО     │ add to cart │            NULL │\n",
      "│ 1701465 │ 5095f99e   │ direct         │ 2025-07-13 19:16:14.424351 │ 2025-07-13 19:16:21.655352 │ desktop │ NULL      │ view        │            NULL │\n",
      "│  770644 │ fb13945c   │ paid           │ 2025-07-13 19:16:14.424369 │ 2025-07-13 19:22:09.37337  │ Tablet  │ ОСАГО     │ calculation │        15167.87 │\n",
      "│ 1447777 │ bc0a426c   │ email          │ 2025-07-13 19:16:14.424391 │ 2025-07-13 19:27:09.605392 │ mobil   │ ОСАГО     │ view        │            NULL │\n",
      "│  527915 │ f07cd1c2   │ direct         │ 2025-07-13 19:16:14.42441  │ 2025-07-13 19:17:46.363411 │ mobil   │ ОСАГО     │ calculation │        18519.27 │\n",
      "│  166576 │ 51dc6c2d   │ social         │ 2025-07-13 19:16:14.424429 │ 2025-07-13 19:30:15.204429 │ Tablet  │ ИПОТЕКА   │ view        │            NULL │\n",
      "│  670874 │ 8bca514c   │ social         │ 2025-07-13 19:16:14.424446 │ 2025-07-13 19:25:44.533446 │ desktop │ КАСКО     │ calculation │       324829.97 │\n",
      "│ 1640878 │ e8f23e44   │ organic        │ 2025-07-13 19:16:14.424465 │ 2025-07-13 19:24:39.695466 │ desktop │ КАСКО     │ add to cart │            NULL │\n",
      "│ 1882512 │ d1b9ed5d   │ paid           │ 2025-07-13 19:16:14.424482 │ 2025-07-13 19:26:08.489483 │ mobil   │ ОСАГО     │ view        │            NULL │\n",
      "├─────────┴────────────┴────────────────┴────────────────────────────┴────────────────────────────┴─────────┴───────────┴─────────────┴─────────────────┤\n",
      "│ 10 rows                                                                                                                                     9 columns │\n",
      "└───────────────────────────────────────────────────────────────────────────────────────────────────────────────────────────────────────────────────────┘\n",
      "\n"
     ]
    }
   ],
   "source": [
    "df = pandas.DataFrame(data_list)\n",
    "duckdb.sql(\"from df\").show()    "
   ]
  },
  {
   "cell_type": "code",
   "execution_count": 7,
   "id": "e2fcccb1",
   "metadata": {},
   "outputs": [],
   "source": [
    "conn_str = (\n",
    "    \"host=0.0.0.0 \"\n",
    "    \"port=5433 \"\n",
    "    \"dbname=analytical_db \"\n",
    "    \"user=postgres \"\n",
    "    \"password=postgres\"\n",
    ")"
   ]
  },
  {
   "cell_type": "code",
   "execution_count": 8,
   "id": "258dcc3f",
   "metadata": {},
   "outputs": [],
   "source": [
    "duckdb.sql(f\"\"\" ATTACH '{conn_str}' AS pg_db (TYPE postgres);\n",
    "                 \"\"\")"
   ]
  },
  {
   "cell_type": "code",
   "execution_count": 9,
   "id": "57652348",
   "metadata": {},
   "outputs": [],
   "source": [
    "duckdb.sql(f\"\"\" insert into pg_db.stg_analytical.action_users\n",
    "                select * from df; \"\"\")"
   ]
  }
 ],
 "metadata": {
  "kernelspec": {
   "display_name": "myenv",
   "language": "python",
   "name": "python3"
  },
  "language_info": {
   "codemirror_mode": {
    "name": "ipython",
    "version": 3
   },
   "file_extension": ".py",
   "mimetype": "text/x-python",
   "name": "python",
   "nbconvert_exporter": "python",
   "pygments_lexer": "ipython3",
   "version": "3.12.3"
  }
 },
 "nbformat": 4,
 "nbformat_minor": 5
}
